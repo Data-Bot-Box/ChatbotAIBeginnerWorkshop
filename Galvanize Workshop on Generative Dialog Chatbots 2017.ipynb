{
 "cells": [
  {
   "cell_type": "markdown",
   "metadata": {},
   "source": [
    "### Galvanize Workshop on Artificially Intelligent Driven Chatbots 2017 By Jennifer Davis, Data Bot Box"
   ]
  },
  {
   "cell_type": "markdown",
   "metadata": {},
   "source": [
    "This notebook will explain how to create a conversational agent with the architecture of a generative dialog.  Our database is the Cornell Movie Dialog Database, and our neural network will be a recursive neural net, using Tensorflow's Seq-to-Seq, a Long-term-short-term Memory Stack (LSTM)."
   ]
  },
  {
   "cell_type": "code",
   "execution_count": 1,
   "metadata": {
    "collapsed": false
   },
   "outputs": [
    {
     "name": "stderr",
     "output_type": "stream",
     "text": [
      "Using TensorFlow backend.\n"
     ]
    },
    {
     "name": "stdout",
     "output_type": "stream",
     "text": [
      "Couldn't import dot_parser, loading of dot files will not be possible.\n"
     ]
    }
   ],
   "source": [
    "import tensorflow as tf\n",
    "import keras\n",
    "import numpy as np\n",
    "import six \n",
    "import scipy as sc\n",
    "import sklearn as sk\n",
    "import pandas as pd"
   ]
  },
  {
   "cell_type": "markdown",
   "metadata": {
    "collapsed": false
   },
   "source": [
    "To first become familiar with TensorFlow and Seq-to-Seq, we will do a walk-through of TensorFlow's tutorial on translation from English to French.  This methodology will be similar to that used in our conversational agent.  We will start to see some of the quirks with conversational agents and think of ways to address them.\n",
    "\n",
    "In the shell script, using bash, we downloaded and ran a script which prepared the translation data for us.  It takes about 20 minutes on a good speed internet connection to download the data.  For the overall information on this TensorFlow tutorial see: https://www.tensorflow.org/tutorials/seq2seq#lets_run_it\n",
    "\n",
    "It can take up to an hour to run this script, download and process teh data.  So meanwhile we will start to work on the Kivy front end of our application.  Kivy is a very nice multi-modal python framework for making applications on mobile, tablet, 'air' screen, and touch-screen.  It is open-source and relatively easy to use!\n"
   ]
  },
  {
   "cell_type": "code",
   "execution_count": 2,
   "metadata": {
    "collapsed": false
   },
   "outputs": [
    {
     "ename": "ImportError",
     "evalue": "No module named models.rnn.translate",
     "output_type": "error",
     "traceback": [
      "\u001b[0;31m---------------------------------------------------------------------------\u001b[0m",
      "\u001b[0;31mImportError\u001b[0m                               Traceback (most recent call last)",
      "\u001b[0;32m<ipython-input-2-2f99c95f5be6>\u001b[0m in \u001b[0;36m<module>\u001b[0;34m()\u001b[0m\n\u001b[0;32m----> 1\u001b[0;31m \u001b[0;32mfrom\u001b[0m \u001b[0mtensorflow\u001b[0m\u001b[0;34m.\u001b[0m\u001b[0mmodels\u001b[0m\u001b[0;34m.\u001b[0m\u001b[0mrnn\u001b[0m\u001b[0;34m.\u001b[0m\u001b[0mtranslate\u001b[0m \u001b[0;32mimport\u001b[0m \u001b[0mdata_utils\u001b[0m\u001b[0;34m\u001b[0m\u001b[0m\n\u001b[0m",
      "\u001b[0;31mImportError\u001b[0m: No module named models.rnn.translate"
     ]
    }
   ],
   "source": [
    "from tensorflow.models.rnn.translate import data_utils"
   ]
  },
  {
   "cell_type": "markdown",
   "metadata": {},
   "source": [
    "Now let's see what a chatbot would look like if its based upon seq-to-seq algorithm from Google.  Full disclosure this is taken from a neat blog by Suryia Deepan:  https://github.com/suriyadeepan/practical_seq2seq.  In the coming weeks we will post another version based upon Reddit data.  However we did not have our GPU cloud working 100% for the classroom, so we are saving some time by offering this version.  Watch the repository for a version you can run in the cloud! "
   ]
  },
  {
   "cell_type": "code",
   "execution_count": 6,
   "metadata": {
    "collapsed": false
   },
   "outputs": [
    {
     "ename": "SyntaxError",
     "evalue": "invalid syntax (<ipython-input-6-ff33cb7ebe8b>, line 1)",
     "output_type": "error",
     "traceback": [
      "\u001b[0;36m  File \u001b[0;32m\"<ipython-input-6-ff33cb7ebe8b>\"\u001b[0;36m, line \u001b[0;32m1\u001b[0m\n\u001b[0;31m    translate --data_dir data\\ --train_dir train\\ --en_vocab_size=40000 --fr_vocab_size=40000\u001b[0m\n\u001b[0m                            ^\u001b[0m\n\u001b[0;31mSyntaxError\u001b[0m\u001b[0;31m:\u001b[0m invalid syntax\n"
     ]
    }
   ],
   "source": [
    "translate --data_dir data\\ --train_dir train\\ --en_vocab_size=40000 --fr_vocab_size=40000"
   ]
  },
  {
   "cell_type": "code",
   "execution_count": null,
   "metadata": {
    "collapsed": true
   },
   "outputs": [],
   "source": []
  }
 ],
 "metadata": {
  "kernelspec": {
   "display_name": "Python 2",
   "language": "python",
   "name": "python2"
  },
  "language_info": {
   "codemirror_mode": {
    "name": "ipython",
    "version": 2
   },
   "file_extension": ".py",
   "mimetype": "text/x-python",
   "name": "python",
   "nbconvert_exporter": "python",
   "pygments_lexer": "ipython2",
   "version": "2.7.13"
  }
 },
 "nbformat": 4,
 "nbformat_minor": 0
}
