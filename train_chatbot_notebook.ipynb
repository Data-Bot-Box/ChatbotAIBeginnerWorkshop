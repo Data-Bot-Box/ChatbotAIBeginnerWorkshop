{
 "cells": [
  {
   "cell_type": "code",
   "execution_count": 1,
   "metadata": {
    "collapsed": true
   },
   "outputs": [],
   "source": [
    "# preprocessed data\n",
    "from datasets.may_reddit import data\n",
    "from data_utils import split_dataset, rand_batch_gen\n",
    "import seq2seq_wrapper"
   ]
  },
  {
   "cell_type": "code",
   "execution_count": 2,
   "metadata": {
    "collapsed": true
   },
   "outputs": [],
   "source": [
    "# load data from pickle and npy files\n",
    "metadata, idx_q, idx_a = data.load_data(PATH='datasets/may_reddit/')\n",
    "(trainX, trainY), (testX, testY), (validX, validY) = split_dataset(idx_q,\n",
    "                                                                   idx_a)"
   ]
  },
  {
   "cell_type": "code",
   "execution_count": 3,
   "metadata": {
    "collapsed": true
   },
   "outputs": [],
   "source": [
    "# parameters\n",
    "xseq_len = trainX.shape[-1]\n",
    "yseq_len = trainY.shape[-1]\n",
    "batch_size = 32\n",
    "xvocab_size = len(metadata['idx2w'])\n",
    "yvocab_size = xvocab_size\n",
    "emb_dim = 1024"
   ]
  },
  {
   "cell_type": "code",
   "execution_count": null,
   "metadata": {},
   "outputs": [
    {
     "name": "stdout",
     "output_type": "stream",
     "text": [
      "<log> Building Graph </log>\n",
      "<log> Training started </log>\n"
     ]
    }
   ],
   "source": [
    "# In[7]:\n",
    "\n",
    "model = seq2seq_wrapper.Seq2Seq(xseq_len=xseq_len,\n",
    "                                yseq_len=yseq_len,\n",
    "                                xvocab_size=xvocab_size,\n",
    "                                yvocab_size=yvocab_size,\n",
    "                                ckpt_path='ckpt/reddit/',\n",
    "                                emb_dim=emb_dim,\n",
    "                                num_layers=3)\n",
    "\n",
    "\n",
    "val_batch_gen = rand_batch_gen(validX, validY, 32)\n",
    "train_batch_gen = rand_batch_gen(trainX, trainY, batch_size)\n",
    "\n",
    "sess = model.restore_last_session()\n",
    "sess = model.train(train_batch_gen, val_batch_gen)"
   ]
  },
  {
   "cell_type": "code",
   "execution_count": null,
   "metadata": {
    "collapsed": true
   },
   "outputs": [],
   "source": []
  }
 ],
 "metadata": {
  "kernelspec": {
   "display_name": "Python 3",
   "language": "python",
   "name": "python3"
  },
  "language_info": {
   "codemirror_mode": {
    "name": "ipython",
    "version": 3
   },
   "file_extension": ".py",
   "mimetype": "text/x-python",
   "name": "python",
   "nbconvert_exporter": "python",
   "pygments_lexer": "ipython3",
   "version": "3.4.3"
  }
 },
 "nbformat": 4,
 "nbformat_minor": 2
}
